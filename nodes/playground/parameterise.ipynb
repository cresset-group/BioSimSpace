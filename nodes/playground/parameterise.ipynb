{
 "cells": [
  {
   "cell_type": "markdown",
   "metadata": {},
   "source": [
    "Author: Julien Michel<br>\n",
    "Email:&nbsp;&nbsp; julien.michel@ed.ac.uk\n",
    "\n",
    "# Parameterise\n",
    "\n",
    "This notebook parameterises a molecule and writes a topology usable for a molecular simulation. Based on the Molecular Seup node written by Lester Hedges"
   ]
  },
  {
   "cell_type": "code",
   "execution_count": null,
   "metadata": {},
   "outputs": [],
   "source": [
    "import BioSimSpace as BSS"
   ]
  },
  {
   "cell_type": "code",
   "execution_count": null,
   "metadata": {},
   "outputs": [],
   "source": [
    "node = BSS.Gateway.Node(\"A node to parameterise a molecule ready for molecular simulation.\")"
   ]
  },
  {
   "cell_type": "code",
   "execution_count": null,
   "metadata": {},
   "outputs": [],
   "source": [
    "node.addAuthor(name=\"Julien Michel\", email=\"julien.michel@ed.ac.uk\", affiliation=\"University of Edimnburgh\")\n",
    "node.setLicense(\"GPLv3\")"
   ]
  },
  {
   "cell_type": "code",
   "execution_count": null,
   "metadata": {},
   "outputs": [],
   "source": [
    "node.addInput(\"input\", BSS.Gateway.File(help=\"A molecular input file, e.g. a PDB file.\"))\n",
    "\n",
    "node.addInput(\"forcefield\", BSS.Gateway.String(help=\"The name of the force field to use for parameterisation.\",\n",
    "                                               allowed=BSS.Parameters.forceFields(), default=\"ff14SB\"))\n",
    "node.addInput(\"output\", BSS.Gateway.String(help=\"The root name of the output files.\"))"
   ]
  },
  {
   "cell_type": "code",
   "execution_count": null,
   "metadata": {},
   "outputs": [],
   "source": [
    "node.addOutput(\"nodeoutput\", BSS.Gateway.FileSet(help=\"The parameterised and solvated molecular system in AMBER format.\"))"
   ]
  },
  {
   "cell_type": "code",
   "execution_count": null,
   "metadata": {},
   "outputs": [],
   "source": [
    "node.showControls()"
   ]
  },
  {
   "cell_type": "code",
   "execution_count": null,
   "metadata": {},
   "outputs": [],
   "source": [
    "system = BSS.IO.readMolecules(node.getInput(\"input\"))"
   ]
  },
  {
   "cell_type": "code",
   "execution_count": null,
   "metadata": {},
   "outputs": [],
   "source": [
    "molecule = system[0]"
   ]
  },
  {
   "cell_type": "code",
   "execution_count": null,
   "metadata": {},
   "outputs": [],
   "source": [
    "print (molecule)"
   ]
  },
  {
   "cell_type": "code",
   "execution_count": null,
   "metadata": {},
   "outputs": [],
   "source": [
    "molecule = BSS.Parameters.parameterise(molecule, node.getInput(\"forcefield\")).getMolecule()"
   ]
  },
  {
   "cell_type": "code",
   "execution_count": null,
   "metadata": {},
   "outputs": [],
   "source": [
    "BSS.IO.saveMolecules(node.getInput(\"output\"), molecule, [\"prm7\", \"rst7\"])"
   ]
  },
  {
   "cell_type": "code",
   "execution_count": null,
   "metadata": {},
   "outputs": [],
   "source": [
    "node.setOutput(\"nodeoutput\", BSS.IO.saveMolecules(node.getInput(\"output\"), molecule, [\"prm7\", \"rst7\"]))"
   ]
  },
  {
   "cell_type": "code",
   "execution_count": null,
   "metadata": {},
   "outputs": [],
   "source": [
    "node.validate()"
   ]
  }
 ],
 "metadata": {
  "kernelspec": {
   "display_name": "Python 3",
   "language": "python",
   "name": "python3"
  },
  "language_info": {
   "codemirror_mode": {
    "name": "ipython",
    "version": 3
   },
   "file_extension": ".py",
   "mimetype": "text/x-python",
   "name": "python",
   "nbconvert_exporter": "python",
   "pygments_lexer": "ipython3",
   "version": "3.7.3"
  }
 },
 "nbformat": 4,
 "nbformat_minor": 2
}
